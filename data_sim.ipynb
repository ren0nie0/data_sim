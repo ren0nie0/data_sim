{
 "cells": [
  {
   "cell_type": "code",
   "execution_count": null,
   "metadata": {},
   "outputs": [],
   "source": [
    "from random_address import real_random_address, real_random_address_by_state, real_random_address_by_postal_code\n",
    "from faker import Faker"
   ]
  },
  {
   "cell_type": "code",
   "execution_count": null,
   "metadata": {},
   "outputs": [],
   "source": [
    "def generate_random_addresses(zip_code, count):\n",
    "    fake = Faker()\n",
    "    addresses = []\n",
    "\n",
    "    for _ in range(count):\n",
    "        address = {}\n",
    "        address['zip_code'] = zip_code\n",
    "        address['street_address'] = fake.street_address()\n",
    "        address['city'] = fake.city()\n",
    "        address['state'] = fake.state()\n",
    "        addresses.append(address)\n",
    "\n",
    "    return addresses\n"
   ]
  },
  {
   "cell_type": "code",
   "execution_count": null,
   "metadata": {},
   "outputs": [],
   "source": [
    "generate_random_addresses(11222, 100)"
   ]
  },
  {
   "cell_type": "code",
   "execution_count": null,
   "metadata": {},
   "outputs": [],
   "source": [
    "real_random_address_by_postal_code('10007')\n",
    "\n"
   ]
  }
 ],
 "metadata": {
  "kernelspec": {
   "display_name": "data-sim-hVubFJJb-py3.9",
   "language": "python",
   "name": "python3"
  },
  "language_info": {
   "codemirror_mode": {
    "name": "ipython",
    "version": 3
   },
   "file_extension": ".py",
   "mimetype": "text/x-python",
   "name": "python",
   "nbconvert_exporter": "python",
   "pygments_lexer": "ipython3",
   "version": "3.9.6"
  },
  "orig_nbformat": 4
 },
 "nbformat": 4,
 "nbformat_minor": 2
}
